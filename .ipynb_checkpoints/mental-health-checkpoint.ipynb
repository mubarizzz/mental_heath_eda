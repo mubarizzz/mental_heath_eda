{
 "cells": [
  {
   "cell_type": "markdown",
   "metadata": {},
   "source": [
    "# Importing necessary libraries."
   ]
  },
  {
   "cell_type": "code",
   "execution_count": 5,
   "metadata": {},
   "outputs": [],
   "source": [
    "import pandas as pd\n",
    "import numpy as np\n",
    "import matplotlib.pyplot as plt\n",
    "import seaborn as sns\n",
    "import warnings as ws\n",
    "ws.filterwarnings(\"ignore\")"
   ]
  },
  {
   "cell_type": "markdown",
   "metadata": {},
   "source": [
    "# Importing the required dataset."
   ]
  },
  {
   "cell_type": "code",
   "execution_count": 6,
   "metadata": {},
   "outputs": [],
   "source": [
    "data=pd.read_csv('./survey.csv')"
   ]
  },
  {
   "cell_type": "code",
   "execution_count": 7,
   "metadata": {},
   "outputs": [
    {
     "data": {
      "text/plain": [
       "(1259, 27)"
      ]
     },
     "execution_count": 7,
     "metadata": {},
     "output_type": "execute_result"
    }
   ],
   "source": [
    "data.shape"
   ]
  },
  {
   "cell_type": "markdown",
   "metadata": {},
   "source": [
    "We have 1259 rows of data with each of 27 columns including features."
   ]
  },
  {
   "cell_type": "code",
   "execution_count": 8,
   "metadata": {},
   "outputs": [
    {
     "data": {
      "text/html": [
       "<div>\n",
       "<style scoped>\n",
       "    .dataframe tbody tr th:only-of-type {\n",
       "        vertical-align: middle;\n",
       "    }\n",
       "\n",
       "    .dataframe tbody tr th {\n",
       "        vertical-align: top;\n",
       "    }\n",
       "\n",
       "    .dataframe thead th {\n",
       "        text-align: right;\n",
       "    }\n",
       "</style>\n",
       "<table border=\"1\" class=\"dataframe\">\n",
       "  <thead>\n",
       "    <tr style=\"text-align: right;\">\n",
       "      <th></th>\n",
       "      <th>Timestamp</th>\n",
       "      <th>Age</th>\n",
       "      <th>Gender</th>\n",
       "      <th>Country</th>\n",
       "      <th>state</th>\n",
       "      <th>self_employed</th>\n",
       "      <th>family_history</th>\n",
       "      <th>treatment</th>\n",
       "      <th>work_interfere</th>\n",
       "      <th>no_employees</th>\n",
       "      <th>...</th>\n",
       "      <th>leave</th>\n",
       "      <th>mental_health_consequence</th>\n",
       "      <th>phys_health_consequence</th>\n",
       "      <th>coworkers</th>\n",
       "      <th>supervisor</th>\n",
       "      <th>mental_health_interview</th>\n",
       "      <th>phys_health_interview</th>\n",
       "      <th>mental_vs_physical</th>\n",
       "      <th>obs_consequence</th>\n",
       "      <th>comments</th>\n",
       "    </tr>\n",
       "  </thead>\n",
       "  <tbody>\n",
       "    <tr>\n",
       "      <th>0</th>\n",
       "      <td>2014-08-27 11:29:31</td>\n",
       "      <td>37</td>\n",
       "      <td>Female</td>\n",
       "      <td>United States</td>\n",
       "      <td>IL</td>\n",
       "      <td>NaN</td>\n",
       "      <td>No</td>\n",
       "      <td>Yes</td>\n",
       "      <td>Often</td>\n",
       "      <td>6-25</td>\n",
       "      <td>...</td>\n",
       "      <td>Somewhat easy</td>\n",
       "      <td>No</td>\n",
       "      <td>No</td>\n",
       "      <td>Some of them</td>\n",
       "      <td>Yes</td>\n",
       "      <td>No</td>\n",
       "      <td>Maybe</td>\n",
       "      <td>Yes</td>\n",
       "      <td>No</td>\n",
       "      <td>NaN</td>\n",
       "    </tr>\n",
       "    <tr>\n",
       "      <th>1</th>\n",
       "      <td>2014-08-27 11:29:37</td>\n",
       "      <td>44</td>\n",
       "      <td>M</td>\n",
       "      <td>United States</td>\n",
       "      <td>IN</td>\n",
       "      <td>NaN</td>\n",
       "      <td>No</td>\n",
       "      <td>No</td>\n",
       "      <td>Rarely</td>\n",
       "      <td>More than 1000</td>\n",
       "      <td>...</td>\n",
       "      <td>Don't know</td>\n",
       "      <td>Maybe</td>\n",
       "      <td>No</td>\n",
       "      <td>No</td>\n",
       "      <td>No</td>\n",
       "      <td>No</td>\n",
       "      <td>No</td>\n",
       "      <td>Don't know</td>\n",
       "      <td>No</td>\n",
       "      <td>NaN</td>\n",
       "    </tr>\n",
       "    <tr>\n",
       "      <th>2</th>\n",
       "      <td>2014-08-27 11:29:44</td>\n",
       "      <td>32</td>\n",
       "      <td>Male</td>\n",
       "      <td>Canada</td>\n",
       "      <td>NaN</td>\n",
       "      <td>NaN</td>\n",
       "      <td>No</td>\n",
       "      <td>No</td>\n",
       "      <td>Rarely</td>\n",
       "      <td>6-25</td>\n",
       "      <td>...</td>\n",
       "      <td>Somewhat difficult</td>\n",
       "      <td>No</td>\n",
       "      <td>No</td>\n",
       "      <td>Yes</td>\n",
       "      <td>Yes</td>\n",
       "      <td>Yes</td>\n",
       "      <td>Yes</td>\n",
       "      <td>No</td>\n",
       "      <td>No</td>\n",
       "      <td>NaN</td>\n",
       "    </tr>\n",
       "    <tr>\n",
       "      <th>3</th>\n",
       "      <td>2014-08-27 11:29:46</td>\n",
       "      <td>31</td>\n",
       "      <td>Male</td>\n",
       "      <td>United Kingdom</td>\n",
       "      <td>NaN</td>\n",
       "      <td>NaN</td>\n",
       "      <td>Yes</td>\n",
       "      <td>Yes</td>\n",
       "      <td>Often</td>\n",
       "      <td>26-100</td>\n",
       "      <td>...</td>\n",
       "      <td>Somewhat difficult</td>\n",
       "      <td>Yes</td>\n",
       "      <td>Yes</td>\n",
       "      <td>Some of them</td>\n",
       "      <td>No</td>\n",
       "      <td>Maybe</td>\n",
       "      <td>Maybe</td>\n",
       "      <td>No</td>\n",
       "      <td>Yes</td>\n",
       "      <td>NaN</td>\n",
       "    </tr>\n",
       "    <tr>\n",
       "      <th>4</th>\n",
       "      <td>2014-08-27 11:30:22</td>\n",
       "      <td>31</td>\n",
       "      <td>Male</td>\n",
       "      <td>United States</td>\n",
       "      <td>TX</td>\n",
       "      <td>NaN</td>\n",
       "      <td>No</td>\n",
       "      <td>No</td>\n",
       "      <td>Never</td>\n",
       "      <td>100-500</td>\n",
       "      <td>...</td>\n",
       "      <td>Don't know</td>\n",
       "      <td>No</td>\n",
       "      <td>No</td>\n",
       "      <td>Some of them</td>\n",
       "      <td>Yes</td>\n",
       "      <td>Yes</td>\n",
       "      <td>Yes</td>\n",
       "      <td>Don't know</td>\n",
       "      <td>No</td>\n",
       "      <td>NaN</td>\n",
       "    </tr>\n",
       "  </tbody>\n",
       "</table>\n",
       "<p>5 rows × 27 columns</p>\n",
       "</div>"
      ],
      "text/plain": [
       "             Timestamp  Age  Gender         Country state self_employed  \\\n",
       "0  2014-08-27 11:29:31   37  Female   United States    IL           NaN   \n",
       "1  2014-08-27 11:29:37   44       M   United States    IN           NaN   \n",
       "2  2014-08-27 11:29:44   32    Male          Canada   NaN           NaN   \n",
       "3  2014-08-27 11:29:46   31    Male  United Kingdom   NaN           NaN   \n",
       "4  2014-08-27 11:30:22   31    Male   United States    TX           NaN   \n",
       "\n",
       "  family_history treatment work_interfere    no_employees  ...  \\\n",
       "0             No       Yes          Often            6-25  ...   \n",
       "1             No        No         Rarely  More than 1000  ...   \n",
       "2             No        No         Rarely            6-25  ...   \n",
       "3            Yes       Yes          Often          26-100  ...   \n",
       "4             No        No          Never         100-500  ...   \n",
       "\n",
       "                leave mental_health_consequence phys_health_consequence  \\\n",
       "0       Somewhat easy                        No                      No   \n",
       "1          Don't know                     Maybe                      No   \n",
       "2  Somewhat difficult                        No                      No   \n",
       "3  Somewhat difficult                       Yes                     Yes   \n",
       "4          Don't know                        No                      No   \n",
       "\n",
       "      coworkers supervisor mental_health_interview phys_health_interview  \\\n",
       "0  Some of them        Yes                      No                 Maybe   \n",
       "1            No         No                      No                    No   \n",
       "2           Yes        Yes                     Yes                   Yes   \n",
       "3  Some of them         No                   Maybe                 Maybe   \n",
       "4  Some of them        Yes                     Yes                   Yes   \n",
       "\n",
       "  mental_vs_physical obs_consequence comments  \n",
       "0                Yes              No      NaN  \n",
       "1         Don't know              No      NaN  \n",
       "2                 No              No      NaN  \n",
       "3                 No             Yes      NaN  \n",
       "4         Don't know              No      NaN  \n",
       "\n",
       "[5 rows x 27 columns]"
      ]
     },
     "execution_count": 8,
     "metadata": {},
     "output_type": "execute_result"
    }
   ],
   "source": [
    "data.head(5)"
   ]
  },
  {
   "cell_type": "markdown",
   "metadata": {},
   "source": [
    "# Finding the null values in the dataset."
   ]
  },
  {
   "cell_type": "code",
   "execution_count": 9,
   "metadata": {},
   "outputs": [
    {
     "data": {
      "text/plain": [
       "Timestamp                       0\n",
       "Age                             0\n",
       "Gender                          0\n",
       "Country                         0\n",
       "state                         515\n",
       "self_employed                  18\n",
       "family_history                  0\n",
       "treatment                       0\n",
       "work_interfere                264\n",
       "no_employees                    0\n",
       "remote_work                     0\n",
       "tech_company                    0\n",
       "benefits                        0\n",
       "care_options                    0\n",
       "wellness_program                0\n",
       "seek_help                       0\n",
       "anonymity                       0\n",
       "leave                           0\n",
       "mental_health_consequence       0\n",
       "phys_health_consequence         0\n",
       "coworkers                       0\n",
       "supervisor                      0\n",
       "mental_health_interview         0\n",
       "phys_health_interview           0\n",
       "mental_vs_physical              0\n",
       "obs_consequence                 0\n",
       "comments                     1095\n",
       "dtype: int64"
      ]
     },
     "execution_count": 9,
     "metadata": {},
     "output_type": "execute_result"
    }
   ],
   "source": [
    "data.isnull().sum()"
   ]
  },
  {
   "cell_type": "markdown",
   "metadata": {},
   "source": [
    "We shall not replace null values in column \"comments\" because more than 85% of data is missing.Hence it will not contribute to our analysis.Even column 'State' has 50% null values,hence we will drop those two columns."
   ]
  },
  {
   "cell_type": "markdown",
   "metadata": {},
   "source": [
    "# Dropping the columns."
   ]
  },
  {
   "cell_type": "code",
   "execution_count": 10,
   "metadata": {},
   "outputs": [],
   "source": [
    "data.drop(columns=['state','comments'],inplace=True)"
   ]
  },
  {
   "cell_type": "markdown",
   "metadata": {},
   "source": [
    "# Imputing the null values."
   ]
  },
  {
   "cell_type": "code",
   "execution_count": 11,
   "metadata": {},
   "outputs": [
    {
     "name": "stdout",
     "output_type": "stream",
     "text": [
      "No     1095\n",
      "Yes     146\n",
      "Name: self_employed, dtype: int64\n"
     ]
    }
   ],
   "source": [
    "print(data['self_employed'].value_counts())\n",
    "data['self_employed'].fillna('No',inplace=True)"
   ]
  },
  {
   "cell_type": "code",
   "execution_count": 12,
   "metadata": {},
   "outputs": [
    {
     "name": "stdout",
     "output_type": "stream",
     "text": [
      "Sometimes    465\n",
      "Never        213\n",
      "Rarely       173\n",
      "Often        144\n",
      "Name: work_interfere, dtype: int64\n"
     ]
    }
   ],
   "source": [
    "print(data['work_interfere'].value_counts())\n",
    "data['work_interfere'].fillna('Sometimes',inplace=True)"
   ]
  },
  {
   "cell_type": "code",
   "execution_count": 13,
   "metadata": {},
   "outputs": [
    {
     "data": {
      "text/plain": [
       "Timestamp                    0\n",
       "Age                          0\n",
       "Gender                       0\n",
       "Country                      0\n",
       "self_employed                0\n",
       "family_history               0\n",
       "treatment                    0\n",
       "work_interfere               0\n",
       "no_employees                 0\n",
       "remote_work                  0\n",
       "tech_company                 0\n",
       "benefits                     0\n",
       "care_options                 0\n",
       "wellness_program             0\n",
       "seek_help                    0\n",
       "anonymity                    0\n",
       "leave                        0\n",
       "mental_health_consequence    0\n",
       "phys_health_consequence      0\n",
       "coworkers                    0\n",
       "supervisor                   0\n",
       "mental_health_interview      0\n",
       "phys_health_interview        0\n",
       "mental_vs_physical           0\n",
       "obs_consequence              0\n",
       "dtype: int64"
      ]
     },
     "execution_count": 13,
     "metadata": {},
     "output_type": "execute_result"
    }
   ],
   "source": [
    "data.isnull().sum()"
   ]
  },
  {
   "cell_type": "code",
   "execution_count": 14,
   "metadata": {},
   "outputs": [
    {
     "data": {
      "text/plain": [
       "Index(['Timestamp', 'Age', 'Gender', 'Country', 'self_employed',\n",
       "       'family_history', 'treatment', 'work_interfere', 'no_employees',\n",
       "       'remote_work', 'tech_company', 'benefits', 'care_options',\n",
       "       'wellness_program', 'seek_help', 'anonymity', 'leave',\n",
       "       'mental_health_consequence', 'phys_health_consequence', 'coworkers',\n",
       "       'supervisor', 'mental_health_interview', 'phys_health_interview',\n",
       "       'mental_vs_physical', 'obs_consequence'],\n",
       "      dtype='object')"
      ]
     },
     "execution_count": 14,
     "metadata": {},
     "output_type": "execute_result"
    }
   ],
   "source": [
    "data.columns"
   ]
  },
  {
   "cell_type": "markdown",
   "metadata": {},
   "source": [
    "# Exploratory Data Analysis."
   ]
  },
  {
   "cell_type": "markdown",
   "metadata": {},
   "source": [
    "## 1.Univariate Analysis."
   ]
  },
  {
   "cell_type": "code",
   "execution_count": 15,
   "metadata": {},
   "outputs": [
    {
     "data": {
      "text/plain": [
       "<AxesSubplot:xlabel='Age'>"
      ]
     },
     "execution_count": 15,
     "metadata": {},
     "output_type": "execute_result"
    }
   ],
   "source": [
    "sns.boxplot(data['Age'])"
   ]
  },
  {
   "cell_type": "markdown",
   "metadata": {},
   "source": [
    "From this we can clearly see that 'Age' column has many outliers."
   ]
  },
  {
   "cell_type": "markdown",
   "metadata": {},
   "source": [
    "# Removing outliers."
   ]
  },
  {
   "cell_type": "code",
   "execution_count": 16,
   "metadata": {},
   "outputs": [],
   "source": [
    "data.drop(data[data['Age'] < 0].index, inplace = True) \n",
    "data.drop(data[data['Age'] > 100].index, inplace = True) "
   ]
  },
  {
   "cell_type": "code",
   "execution_count": 17,
   "metadata": {},
   "outputs": [
    {
     "data": {
      "text/plain": [
       "(1254, 25)"
      ]
     },
     "execution_count": 17,
     "metadata": {},
     "output_type": "execute_result"
    }
   ],
   "source": [
    "data.shape"
   ]
  },
  {
   "cell_type": "markdown",
   "metadata": {},
   "source": [
    "We find that we have removed 5 columns proved to be outliers."
   ]
  },
  {
   "cell_type": "code",
   "execution_count": 18,
   "metadata": {},
   "outputs": [
    {
     "data": {
      "text/plain": [
       "<AxesSubplot:xlabel='Age'>"
      ]
     },
     "execution_count": 18,
     "metadata": {},
     "output_type": "execute_result"
    }
   ],
   "source": [
    "sns.boxplot(data['Age'])"
   ]
  },
  {
   "cell_type": "markdown",
   "metadata": {},
   "source": [
    "This shows us that the median age is around 30 which we have taken for analysis."
   ]
  },
  {
   "cell_type": "code",
   "execution_count": 19,
   "metadata": {},
   "outputs": [
    {
     "data": {
      "text/plain": [
       "male                                              818\n",
       "female                                            183\n",
       "m                                                 150\n",
       "f                                                  53\n",
       "woman                                               4\n",
       "make                                                4\n",
       "male                                                3\n",
       "cis male                                            3\n",
       "female (trans)                                      2\n",
       "man                                                 2\n",
       "female                                              2\n",
       "a little about you                                  1\n",
       "neuter                                              1\n",
       "cis female                                          1\n",
       "fluid                                               1\n",
       "queer                                               1\n",
       "femake                                              1\n",
       "enby                                                1\n",
       "male leaning androgynous                            1\n",
       "maile                                               1\n",
       "trans woman                                         1\n",
       "agender                                             1\n",
       "guy (-ish) ^_^                                      1\n",
       "mal                                                 1\n",
       "mail                                                1\n",
       "androgyne                                           1\n",
       "msle                                                1\n",
       "something kinda male?                               1\n",
       "ostensibly male, unsure what that really means      1\n",
       "female (cis)                                        1\n",
       "non-binary                                          1\n",
       "genderqueer                                         1\n",
       "malr                                                1\n",
       "cis man                                             1\n",
       "nah                                                 1\n",
       "queer/she/they                                      1\n",
       "cis-female/femme                                    1\n",
       "femail                                              1\n",
       "male (cis)                                          1\n",
       "male-ish                                            1\n",
       "trans-female                                        1\n",
       "Name: Gender, dtype: int64"
      ]
     },
     "execution_count": 19,
     "metadata": {},
     "output_type": "execute_result"
    }
   ],
   "source": [
    "data['Gender']=[m.lower() for m in data['Gender']]\n",
    "data['Gender'].value_counts()"
   ]
  },
  {
   "cell_type": "markdown",
   "metadata": {},
   "source": [
    "We have a majority of males in our analysis compared to females and other categories."
   ]
  },
  {
   "cell_type": "code",
   "execution_count": 20,
   "metadata": {},
   "outputs": [
    {
     "data": {
      "text/plain": [
       "([<matplotlib.patches.Wedge at 0x7f8d59aa2650>,\n",
       "  <matplotlib.patches.Wedge at 0x7f8d59a85bd0>,\n",
       "  <matplotlib.patches.Wedge at 0x7f8d59aa2950>,\n",
       "  <matplotlib.patches.Wedge at 0x7f8d59aa2e90>,\n",
       "  <matplotlib.patches.Wedge at 0x7f8d59ab3490>,\n",
       "  <matplotlib.patches.Wedge at 0x7f8d59ab3a10>,\n",
       "  <matplotlib.patches.Wedge at 0x7f8d59ab3f10>,\n",
       "  <matplotlib.patches.Wedge at 0x7f8d59ac1490>,\n",
       "  <matplotlib.patches.Wedge at 0x7f8d59ab3350>,\n",
       "  <matplotlib.patches.Wedge at 0x7f8d59ab3990>,\n",
       "  <matplotlib.patches.Wedge at 0x7f8d48f86950>,\n",
       "  <matplotlib.patches.Wedge at 0x7f8d59ad1850>,\n",
       "  <matplotlib.patches.Wedge at 0x7f8d59ad1d90>,\n",
       "  <matplotlib.patches.Wedge at 0x7f8d59ade310>,\n",
       "  <matplotlib.patches.Wedge at 0x7f8d59ade850>,\n",
       "  <matplotlib.patches.Wedge at 0x7f8d59aded90>,\n",
       "  <matplotlib.patches.Wedge at 0x7f8d59aed310>,\n",
       "  <matplotlib.patches.Wedge at 0x7f8d59aed850>,\n",
       "  <matplotlib.patches.Wedge at 0x7f8d59aedd90>,\n",
       "  <matplotlib.patches.Wedge at 0x7f8d59afc310>,\n",
       "  <matplotlib.patches.Wedge at 0x7f8d59afc850>,\n",
       "  <matplotlib.patches.Wedge at 0x7f8d59afcd90>,\n",
       "  <matplotlib.patches.Wedge at 0x7f8d59b09310>,\n",
       "  <matplotlib.patches.Wedge at 0x7f8d59b09850>,\n",
       "  <matplotlib.patches.Wedge at 0x7f8d59b09d90>,\n",
       "  <matplotlib.patches.Wedge at 0x7f8d59b18310>,\n",
       "  <matplotlib.patches.Wedge at 0x7f8d59b18850>,\n",
       "  <matplotlib.patches.Wedge at 0x7f8d59b18d90>,\n",
       "  <matplotlib.patches.Wedge at 0x7f8d59b26310>,\n",
       "  <matplotlib.patches.Wedge at 0x7f8d59b26850>,\n",
       "  <matplotlib.patches.Wedge at 0x7f8d59b26d90>,\n",
       "  <matplotlib.patches.Wedge at 0x7f8d28404310>,\n",
       "  <matplotlib.patches.Wedge at 0x7f8d28404850>,\n",
       "  <matplotlib.patches.Wedge at 0x7f8d28404d90>,\n",
       "  <matplotlib.patches.Wedge at 0x7f8d28413310>,\n",
       "  <matplotlib.patches.Wedge at 0x7f8d28413850>,\n",
       "  <matplotlib.patches.Wedge at 0x7f8d28413d90>,\n",
       "  <matplotlib.patches.Wedge at 0x7f8d28423310>,\n",
       "  <matplotlib.patches.Wedge at 0x7f8d59932650>,\n",
       "  <matplotlib.patches.Wedge at 0x7f8d28423c10>,\n",
       "  <matplotlib.patches.Wedge at 0x7f8d28432190>,\n",
       "  <matplotlib.patches.Wedge at 0x7f8d284326d0>,\n",
       "  <matplotlib.patches.Wedge at 0x7f8d28432c10>,\n",
       "  <matplotlib.patches.Wedge at 0x7f8d39a36190>,\n",
       "  <matplotlib.patches.Wedge at 0x7f8d39a366d0>,\n",
       "  <matplotlib.patches.Wedge at 0x7f8d39a36c10>,\n",
       "  <matplotlib.patches.Wedge at 0x7f8d39a42190>],\n",
       " [Text(-0.32836625761287086, 1.049845512854781, 'United States'),\n",
       "  Text(-0.5307982415494628, -0.9634589907038071, 'Canada'),\n",
       "  Text(0.15108887646382577, -1.0895742982508807, 'United Kingdom'),\n",
       "  Text(0.4594617878331475, -0.9994472800108908, 'Bulgaria'),\n",
       "  Text(0.6313102240012489, -0.9008037528071767, 'France'),\n",
       "  Text(0.7470348568847082, -0.8074273481863515, 'Portugal'),\n",
       "  Text(0.8385012634298497, -0.7119800778298125, 'Netherlands'),\n",
       "  Text(0.8960335261541189, -0.638062630160877, 'Switzerland'),\n",
       "  Text(0.9312918582830189, -0.5854019770172985, 'Poland'),\n",
       "  Text(0.9567346551113994, -0.5428248333568314, 'Australia'),\n",
       "  Text(0.9764531353585771, -0.5064970626256428, 'Germany'),\n",
       "  Text(0.9936136354230528, -0.4719448521823126, 'Russia'),\n",
       "  Text(1.0095519595041866, -0.43681213474588493, 'Mexico'),\n",
       "  Text(1.0242485029626975, -0.4011421246624107, 'Brazil'),\n",
       "  Text(1.036767567526561, -0.36757721763604684, 'Slovenia'),\n",
       "  Text(1.04734793436796, -0.3362473856778189, 'Costa Rica'),\n",
       "  Text(1.056981790780272, -0.30461367986177024, 'Austria'),\n",
       "  Text(1.0649738914981866, -0.2753735833866583, 'Ireland'),\n",
       "  Text(1.0709116053227616, -0.25129332180745684, 'India'),\n",
       "  Text(1.075732626641207, -0.22978101744837381, 'South Africa'),\n",
       "  Text(1.0795966331737403, -0.21088174325892858, 'Italy'),\n",
       "  Text(1.0826444281758376, -0.19463052725565372, 'Sweden'),\n",
       "  Text(1.0854476072067771, -0.17833533583976638, 'Colombia'),\n",
       "  Text(1.0880055369077726, -0.16199985079631965, 'Latvia'),\n",
       "  Text(1.0899493831432912, -0.14835882914595747, 'Romania'),\n",
       "  Text(1.0913813399423309, -0.13742914838447753, 'Belgium'),\n",
       "  Text(1.092703700027137, -0.12648566696272276, 'New Zealand'),\n",
       "  Text(1.0939163306060675, -0.11552948382710373, 'Spain'),\n",
       "  Text(1.0950191099065372, -0.1045616991995404, 'Finland'),\n",
       "  Text(1.0957740374475162, -0.09632890976217645, 'Uruguay'),\n",
       "  Text(1.096242938015594, -0.09083733181318485, 'Israel'),\n",
       "  Text(1.0966843171817384, -0.08534347337450186, 'Bosnia and Herzegovina'),\n",
       "  Text(1.0970981638650357, -0.07984747237056204, 'Hungary'),\n",
       "  Text(1.0974844676757805, -0.07434946677958647, 'Singapore'),\n",
       "  Text(1.0978432189157374, -0.06884959463012483, 'Japan'),\n",
       "  Text(1.0981744085783833, -0.06334799399758605, 'Nigeria'),\n",
       "  Text(1.0984780283491344, -0.057844803000773055, 'Croatia'),\n",
       "  Text(1.0987540706055547, -0.05234015979841517, 'Norway'),\n",
       "  Text(1.0990025284175473, -0.04683420258569961, 'Thailand'),\n",
       "  Text(1.099223395547528, -0.041327069590802123, 'Denmark'),\n",
       "  Text(1.0994166664505827, -0.03581889907141765, 'Bahamas, The'),\n",
       "  Text(1.099582336274606, -0.030309829311285504, 'Greece'),\n",
       "  Text(1.0997204008604236, -0.024799998616723506, 'Moldova'),\n",
       "  Text(1.0998308567418955, -0.01928954531315194, 'Georgia'),\n",
       "  Text(1.0999137011460047, -0.013778607741621818, 'China'),\n",
       "  Text(1.0999689319929256, -0.008267324255341789, 'Czech Republic'),\n",
       "  Text(1.099996547896076, -0.0027558332162047686, 'Philippines')])"
      ]
     },
     "execution_count": 20,
     "metadata": {},
     "output_type": "execute_result"
    }
   ],
   "source": [
    "plt.pie(data['Country'].value_counts(),labels=data['Country'].unique(),labeldistance=1.1)"
   ]
  },
  {
   "cell_type": "markdown",
   "metadata": {},
   "source": [
    "We find that the majority of our cases of analysis is from United States and Canada.So we are more focussing on the western world."
   ]
  },
  {
   "cell_type": "markdown",
   "metadata": {},
   "source": [
    "# Bivariate and Multivariate Analysis."
   ]
  },
  {
   "cell_type": "markdown",
   "metadata": {},
   "source": [
    "Using country as the first criteria for analysis."
   ]
  },
  {
   "cell_type": "code",
   "execution_count": 21,
   "metadata": {},
   "outputs": [],
   "source": [
    "country=data.groupby(data['Country'])"
   ]
  },
  {
   "cell_type": "code",
   "execution_count": 22,
   "metadata": {},
   "outputs": [
    {
     "data": {
      "text/plain": [
       "Country\n",
       "Bahamas, The               8.0\n",
       "Slovenia                  19.0\n",
       "Georgia                   20.0\n",
       "India                     23.0\n",
       "Austria                   24.0\n",
       "Bosnia and Herzegovina    25.0\n",
       "Nigeria                   25.0\n",
       "Uruguay                   26.0\n",
       "Russia                    26.0\n",
       "Moldova                   26.0\n",
       "Israel                    26.0\n",
       "Sweden                    27.0\n",
       "Hungary                   27.0\n",
       "Australia                 27.0\n",
       "Colombia                  27.0\n",
       "Bulgaria                  27.5\n",
       "France                    28.0\n",
       "Brazil                    28.0\n",
       "Canada                    29.0\n",
       "Romania                   29.0\n",
       "Latvia                    29.0\n",
       "Poland                    29.0\n",
       "Singapore                 29.5\n",
       "Spain                     30.0\n",
       "Belgium                   30.0\n",
       "Switzerland               30.0\n",
       "Germany                   30.0\n",
       "New Zealand               30.0\n",
       "Philippines               31.0\n",
       "Mexico                    31.0\n",
       "United Kingdom            31.0\n",
       "Ireland                   32.0\n",
       "United States             32.0\n",
       "Portugal                  32.5\n",
       "Italy                     33.0\n",
       "Netherlands               33.0\n",
       "Czech Republic            33.0\n",
       "Norway                    33.0\n",
       "South Africa              33.5\n",
       "Finland                   34.0\n",
       "Denmark                   35.0\n",
       "Greece                    36.5\n",
       "Costa Rica                38.0\n",
       "Croatia                   38.0\n",
       "China                     40.0\n",
       "Thailand                  40.0\n",
       "Japan                     49.0\n",
       "Name: Age, dtype: float64"
      ]
     },
     "execution_count": 22,
     "metadata": {},
     "output_type": "execute_result"
    }
   ],
   "source": [
    "country['Age'].aggregate(np.median).sort_values()"
   ]
  },
  {
   "cell_type": "markdown",
   "metadata": {},
   "source": [
    "We find that the median age of Japan is the highest with 49.0 yrs followed by Thialand and China.Lets see if this has any affect on mental health."
   ]
  },
  {
   "cell_type": "code",
   "execution_count": 23,
   "metadata": {},
   "outputs": [
    {
     "data": {
      "text/html": [
       "<div>\n",
       "<style scoped>\n",
       "    .dataframe tbody tr th:only-of-type {\n",
       "        vertical-align: middle;\n",
       "    }\n",
       "\n",
       "    .dataframe tbody tr th {\n",
       "        vertical-align: top;\n",
       "    }\n",
       "\n",
       "    .dataframe thead tr th {\n",
       "        text-align: left;\n",
       "    }\n",
       "\n",
       "    .dataframe thead tr:last-of-type th {\n",
       "        text-align: right;\n",
       "    }\n",
       "</style>\n",
       "<table border=\"1\" class=\"dataframe\">\n",
       "  <thead>\n",
       "    <tr>\n",
       "      <th></th>\n",
       "      <th colspan=\"4\" halign=\"left\">treatment</th>\n",
       "      <th colspan=\"4\" halign=\"left\">remote_work</th>\n",
       "      <th colspan=\"4\" halign=\"left\">self_employed</th>\n",
       "    </tr>\n",
       "    <tr>\n",
       "      <th></th>\n",
       "      <th>count</th>\n",
       "      <th>unique</th>\n",
       "      <th>top</th>\n",
       "      <th>freq</th>\n",
       "      <th>count</th>\n",
       "      <th>unique</th>\n",
       "      <th>top</th>\n",
       "      <th>freq</th>\n",
       "      <th>count</th>\n",
       "      <th>unique</th>\n",
       "      <th>top</th>\n",
       "      <th>freq</th>\n",
       "    </tr>\n",
       "    <tr>\n",
       "      <th>Country</th>\n",
       "      <th></th>\n",
       "      <th></th>\n",
       "      <th></th>\n",
       "      <th></th>\n",
       "      <th></th>\n",
       "      <th></th>\n",
       "      <th></th>\n",
       "      <th></th>\n",
       "      <th></th>\n",
       "      <th></th>\n",
       "      <th></th>\n",
       "      <th></th>\n",
       "    </tr>\n",
       "  </thead>\n",
       "  <tbody>\n",
       "    <tr>\n",
       "      <th>Australia</th>\n",
       "      <td>21</td>\n",
       "      <td>2</td>\n",
       "      <td>Yes</td>\n",
       "      <td>13</td>\n",
       "      <td>21</td>\n",
       "      <td>2</td>\n",
       "      <td>No</td>\n",
       "      <td>13</td>\n",
       "      <td>21</td>\n",
       "      <td>2</td>\n",
       "      <td>No</td>\n",
       "      <td>19</td>\n",
       "    </tr>\n",
       "    <tr>\n",
       "      <th>Austria</th>\n",
       "      <td>3</td>\n",
       "      <td>1</td>\n",
       "      <td>No</td>\n",
       "      <td>3</td>\n",
       "      <td>3</td>\n",
       "      <td>2</td>\n",
       "      <td>Yes</td>\n",
       "      <td>2</td>\n",
       "      <td>3</td>\n",
       "      <td>2</td>\n",
       "      <td>No</td>\n",
       "      <td>2</td>\n",
       "    </tr>\n",
       "    <tr>\n",
       "      <th>Bahamas, The</th>\n",
       "      <td>1</td>\n",
       "      <td>1</td>\n",
       "      <td>Yes</td>\n",
       "      <td>1</td>\n",
       "      <td>1</td>\n",
       "      <td>1</td>\n",
       "      <td>Yes</td>\n",
       "      <td>1</td>\n",
       "      <td>1</td>\n",
       "      <td>1</td>\n",
       "      <td>Yes</td>\n",
       "      <td>1</td>\n",
       "    </tr>\n",
       "    <tr>\n",
       "      <th>Belgium</th>\n",
       "      <td>6</td>\n",
       "      <td>2</td>\n",
       "      <td>No</td>\n",
       "      <td>5</td>\n",
       "      <td>6</td>\n",
       "      <td>1</td>\n",
       "      <td>No</td>\n",
       "      <td>6</td>\n",
       "      <td>6</td>\n",
       "      <td>1</td>\n",
       "      <td>No</td>\n",
       "      <td>6</td>\n",
       "    </tr>\n",
       "    <tr>\n",
       "      <th>Bosnia and Herzegovina</th>\n",
       "      <td>1</td>\n",
       "      <td>1</td>\n",
       "      <td>No</td>\n",
       "      <td>1</td>\n",
       "      <td>1</td>\n",
       "      <td>1</td>\n",
       "      <td>Yes</td>\n",
       "      <td>1</td>\n",
       "      <td>1</td>\n",
       "      <td>1</td>\n",
       "      <td>No</td>\n",
       "      <td>1</td>\n",
       "    </tr>\n",
       "    <tr>\n",
       "      <th>Brazil</th>\n",
       "      <td>6</td>\n",
       "      <td>2</td>\n",
       "      <td>No</td>\n",
       "      <td>4</td>\n",
       "      <td>6</td>\n",
       "      <td>2</td>\n",
       "      <td>No</td>\n",
       "      <td>5</td>\n",
       "      <td>6</td>\n",
       "      <td>2</td>\n",
       "      <td>No</td>\n",
       "      <td>4</td>\n",
       "    </tr>\n",
       "    <tr>\n",
       "      <th>Bulgaria</th>\n",
       "      <td>4</td>\n",
       "      <td>2</td>\n",
       "      <td>No</td>\n",
       "      <td>2</td>\n",
       "      <td>4</td>\n",
       "      <td>2</td>\n",
       "      <td>Yes</td>\n",
       "      <td>3</td>\n",
       "      <td>4</td>\n",
       "      <td>1</td>\n",
       "      <td>No</td>\n",
       "      <td>4</td>\n",
       "    </tr>\n",
       "    <tr>\n",
       "      <th>Canada</th>\n",
       "      <td>72</td>\n",
       "      <td>2</td>\n",
       "      <td>Yes</td>\n",
       "      <td>37</td>\n",
       "      <td>72</td>\n",
       "      <td>2</td>\n",
       "      <td>No</td>\n",
       "      <td>50</td>\n",
       "      <td>72</td>\n",
       "      <td>2</td>\n",
       "      <td>No</td>\n",
       "      <td>61</td>\n",
       "    </tr>\n",
       "    <tr>\n",
       "      <th>China</th>\n",
       "      <td>1</td>\n",
       "      <td>1</td>\n",
       "      <td>No</td>\n",
       "      <td>1</td>\n",
       "      <td>1</td>\n",
       "      <td>1</td>\n",
       "      <td>Yes</td>\n",
       "      <td>1</td>\n",
       "      <td>1</td>\n",
       "      <td>1</td>\n",
       "      <td>Yes</td>\n",
       "      <td>1</td>\n",
       "    </tr>\n",
       "    <tr>\n",
       "      <th>Colombia</th>\n",
       "      <td>2</td>\n",
       "      <td>1</td>\n",
       "      <td>No</td>\n",
       "      <td>2</td>\n",
       "      <td>2</td>\n",
       "      <td>1</td>\n",
       "      <td>No</td>\n",
       "      <td>2</td>\n",
       "      <td>2</td>\n",
       "      <td>1</td>\n",
       "      <td>No</td>\n",
       "      <td>2</td>\n",
       "    </tr>\n",
       "    <tr>\n",
       "      <th>Costa Rica</th>\n",
       "      <td>1</td>\n",
       "      <td>1</td>\n",
       "      <td>No</td>\n",
       "      <td>1</td>\n",
       "      <td>1</td>\n",
       "      <td>1</td>\n",
       "      <td>Yes</td>\n",
       "      <td>1</td>\n",
       "      <td>1</td>\n",
       "      <td>1</td>\n",
       "      <td>No</td>\n",
       "      <td>1</td>\n",
       "    </tr>\n",
       "    <tr>\n",
       "      <th>Croatia</th>\n",
       "      <td>2</td>\n",
       "      <td>1</td>\n",
       "      <td>Yes</td>\n",
       "      <td>2</td>\n",
       "      <td>2</td>\n",
       "      <td>1</td>\n",
       "      <td>Yes</td>\n",
       "      <td>2</td>\n",
       "      <td>2</td>\n",
       "      <td>2</td>\n",
       "      <td>No</td>\n",
       "      <td>1</td>\n",
       "    </tr>\n",
       "    <tr>\n",
       "      <th>Czech Republic</th>\n",
       "      <td>1</td>\n",
       "      <td>1</td>\n",
       "      <td>No</td>\n",
       "      <td>1</td>\n",
       "      <td>1</td>\n",
       "      <td>1</td>\n",
       "      <td>No</td>\n",
       "      <td>1</td>\n",
       "      <td>1</td>\n",
       "      <td>1</td>\n",
       "      <td>No</td>\n",
       "      <td>1</td>\n",
       "    </tr>\n",
       "    <tr>\n",
       "      <th>Denmark</th>\n",
       "      <td>2</td>\n",
       "      <td>1</td>\n",
       "      <td>Yes</td>\n",
       "      <td>2</td>\n",
       "      <td>2</td>\n",
       "      <td>1</td>\n",
       "      <td>No</td>\n",
       "      <td>2</td>\n",
       "      <td>2</td>\n",
       "      <td>1</td>\n",
       "      <td>Yes</td>\n",
       "      <td>2</td>\n",
       "    </tr>\n",
       "    <tr>\n",
       "      <th>Finland</th>\n",
       "      <td>3</td>\n",
       "      <td>2</td>\n",
       "      <td>No</td>\n",
       "      <td>2</td>\n",
       "      <td>3</td>\n",
       "      <td>2</td>\n",
       "      <td>No</td>\n",
       "      <td>2</td>\n",
       "      <td>3</td>\n",
       "      <td>1</td>\n",
       "      <td>No</td>\n",
       "      <td>3</td>\n",
       "    </tr>\n",
       "    <tr>\n",
       "      <th>France</th>\n",
       "      <td>13</td>\n",
       "      <td>2</td>\n",
       "      <td>No</td>\n",
       "      <td>11</td>\n",
       "      <td>13</td>\n",
       "      <td>2</td>\n",
       "      <td>No</td>\n",
       "      <td>10</td>\n",
       "      <td>13</td>\n",
       "      <td>2</td>\n",
       "      <td>No</td>\n",
       "      <td>11</td>\n",
       "    </tr>\n",
       "    <tr>\n",
       "      <th>Georgia</th>\n",
       "      <td>1</td>\n",
       "      <td>1</td>\n",
       "      <td>No</td>\n",
       "      <td>1</td>\n",
       "      <td>1</td>\n",
       "      <td>1</td>\n",
       "      <td>No</td>\n",
       "      <td>1</td>\n",
       "      <td>1</td>\n",
       "      <td>1</td>\n",
       "      <td>No</td>\n",
       "      <td>1</td>\n",
       "    </tr>\n",
       "    <tr>\n",
       "      <th>Germany</th>\n",
       "      <td>45</td>\n",
       "      <td>2</td>\n",
       "      <td>No</td>\n",
       "      <td>24</td>\n",
       "      <td>45</td>\n",
       "      <td>2</td>\n",
       "      <td>No</td>\n",
       "      <td>29</td>\n",
       "      <td>45</td>\n",
       "      <td>2</td>\n",
       "      <td>No</td>\n",
       "      <td>33</td>\n",
       "    </tr>\n",
       "    <tr>\n",
       "      <th>Greece</th>\n",
       "      <td>2</td>\n",
       "      <td>1</td>\n",
       "      <td>No</td>\n",
       "      <td>2</td>\n",
       "      <td>2</td>\n",
       "      <td>1</td>\n",
       "      <td>Yes</td>\n",
       "      <td>2</td>\n",
       "      <td>2</td>\n",
       "      <td>1</td>\n",
       "      <td>No</td>\n",
       "      <td>2</td>\n",
       "    </tr>\n",
       "    <tr>\n",
       "      <th>Hungary</th>\n",
       "      <td>1</td>\n",
       "      <td>1</td>\n",
       "      <td>No</td>\n",
       "      <td>1</td>\n",
       "      <td>1</td>\n",
       "      <td>1</td>\n",
       "      <td>Yes</td>\n",
       "      <td>1</td>\n",
       "      <td>1</td>\n",
       "      <td>1</td>\n",
       "      <td>Yes</td>\n",
       "      <td>1</td>\n",
       "    </tr>\n",
       "    <tr>\n",
       "      <th>India</th>\n",
       "      <td>10</td>\n",
       "      <td>2</td>\n",
       "      <td>No</td>\n",
       "      <td>7</td>\n",
       "      <td>10</td>\n",
       "      <td>2</td>\n",
       "      <td>No</td>\n",
       "      <td>9</td>\n",
       "      <td>10</td>\n",
       "      <td>2</td>\n",
       "      <td>No</td>\n",
       "      <td>7</td>\n",
       "    </tr>\n",
       "    <tr>\n",
       "      <th>Ireland</th>\n",
       "      <td>27</td>\n",
       "      <td>2</td>\n",
       "      <td>No</td>\n",
       "      <td>14</td>\n",
       "      <td>27</td>\n",
       "      <td>2</td>\n",
       "      <td>No</td>\n",
       "      <td>22</td>\n",
       "      <td>27</td>\n",
       "      <td>2</td>\n",
       "      <td>No</td>\n",
       "      <td>21</td>\n",
       "    </tr>\n",
       "    <tr>\n",
       "      <th>Israel</th>\n",
       "      <td>5</td>\n",
       "      <td>1</td>\n",
       "      <td>No</td>\n",
       "      <td>5</td>\n",
       "      <td>5</td>\n",
       "      <td>1</td>\n",
       "      <td>No</td>\n",
       "      <td>5</td>\n",
       "      <td>5</td>\n",
       "      <td>1</td>\n",
       "      <td>No</td>\n",
       "      <td>5</td>\n",
       "    </tr>\n",
       "    <tr>\n",
       "      <th>Italy</th>\n",
       "      <td>7</td>\n",
       "      <td>2</td>\n",
       "      <td>No</td>\n",
       "      <td>6</td>\n",
       "      <td>7</td>\n",
       "      <td>1</td>\n",
       "      <td>No</td>\n",
       "      <td>7</td>\n",
       "      <td>7</td>\n",
       "      <td>2</td>\n",
       "      <td>No</td>\n",
       "      <td>6</td>\n",
       "    </tr>\n",
       "    <tr>\n",
       "      <th>Japan</th>\n",
       "      <td>1</td>\n",
       "      <td>1</td>\n",
       "      <td>Yes</td>\n",
       "      <td>1</td>\n",
       "      <td>1</td>\n",
       "      <td>1</td>\n",
       "      <td>Yes</td>\n",
       "      <td>1</td>\n",
       "      <td>1</td>\n",
       "      <td>1</td>\n",
       "      <td>Yes</td>\n",
       "      <td>1</td>\n",
       "    </tr>\n",
       "    <tr>\n",
       "      <th>Latvia</th>\n",
       "      <td>1</td>\n",
       "      <td>1</td>\n",
       "      <td>No</td>\n",
       "      <td>1</td>\n",
       "      <td>1</td>\n",
       "      <td>1</td>\n",
       "      <td>No</td>\n",
       "      <td>1</td>\n",
       "      <td>1</td>\n",
       "      <td>1</td>\n",
       "      <td>No</td>\n",
       "      <td>1</td>\n",
       "    </tr>\n",
       "    <tr>\n",
       "      <th>Mexico</th>\n",
       "      <td>3</td>\n",
       "      <td>2</td>\n",
       "      <td>No</td>\n",
       "      <td>2</td>\n",
       "      <td>3</td>\n",
       "      <td>2</td>\n",
       "      <td>Yes</td>\n",
       "      <td>2</td>\n",
       "      <td>3</td>\n",
       "      <td>2</td>\n",
       "      <td>No</td>\n",
       "      <td>2</td>\n",
       "    </tr>\n",
       "    <tr>\n",
       "      <th>Moldova</th>\n",
       "      <td>1</td>\n",
       "      <td>1</td>\n",
       "      <td>Yes</td>\n",
       "      <td>1</td>\n",
       "      <td>1</td>\n",
       "      <td>1</td>\n",
       "      <td>No</td>\n",
       "      <td>1</td>\n",
       "      <td>1</td>\n",
       "      <td>1</td>\n",
       "      <td>No</td>\n",
       "      <td>1</td>\n",
       "    </tr>\n",
       "    <tr>\n",
       "      <th>Netherlands</th>\n",
       "      <td>27</td>\n",
       "      <td>2</td>\n",
       "      <td>No</td>\n",
       "      <td>18</td>\n",
       "      <td>27</td>\n",
       "      <td>2</td>\n",
       "      <td>No</td>\n",
       "      <td>19</td>\n",
       "      <td>27</td>\n",
       "      <td>2</td>\n",
       "      <td>No</td>\n",
       "      <td>20</td>\n",
       "    </tr>\n",
       "    <tr>\n",
       "      <th>New Zealand</th>\n",
       "      <td>8</td>\n",
       "      <td>2</td>\n",
       "      <td>Yes</td>\n",
       "      <td>5</td>\n",
       "      <td>8</td>\n",
       "      <td>2</td>\n",
       "      <td>No</td>\n",
       "      <td>5</td>\n",
       "      <td>8</td>\n",
       "      <td>1</td>\n",
       "      <td>No</td>\n",
       "      <td>8</td>\n",
       "    </tr>\n",
       "    <tr>\n",
       "      <th>Nigeria</th>\n",
       "      <td>1</td>\n",
       "      <td>1</td>\n",
       "      <td>No</td>\n",
       "      <td>1</td>\n",
       "      <td>1</td>\n",
       "      <td>1</td>\n",
       "      <td>No</td>\n",
       "      <td>1</td>\n",
       "      <td>1</td>\n",
       "      <td>1</td>\n",
       "      <td>No</td>\n",
       "      <td>1</td>\n",
       "    </tr>\n",
       "    <tr>\n",
       "      <th>Norway</th>\n",
       "      <td>1</td>\n",
       "      <td>1</td>\n",
       "      <td>No</td>\n",
       "      <td>1</td>\n",
       "      <td>1</td>\n",
       "      <td>1</td>\n",
       "      <td>No</td>\n",
       "      <td>1</td>\n",
       "      <td>1</td>\n",
       "      <td>1</td>\n",
       "      <td>No</td>\n",
       "      <td>1</td>\n",
       "    </tr>\n",
       "    <tr>\n",
       "      <th>Philippines</th>\n",
       "      <td>1</td>\n",
       "      <td>1</td>\n",
       "      <td>No</td>\n",
       "      <td>1</td>\n",
       "      <td>1</td>\n",
       "      <td>1</td>\n",
       "      <td>No</td>\n",
       "      <td>1</td>\n",
       "      <td>1</td>\n",
       "      <td>1</td>\n",
       "      <td>No</td>\n",
       "      <td>1</td>\n",
       "    </tr>\n",
       "    <tr>\n",
       "      <th>Poland</th>\n",
       "      <td>7</td>\n",
       "      <td>2</td>\n",
       "      <td>Yes</td>\n",
       "      <td>4</td>\n",
       "      <td>7</td>\n",
       "      <td>2</td>\n",
       "      <td>Yes</td>\n",
       "      <td>4</td>\n",
       "      <td>7</td>\n",
       "      <td>2</td>\n",
       "      <td>No</td>\n",
       "      <td>5</td>\n",
       "    </tr>\n",
       "    <tr>\n",
       "      <th>Portugal</th>\n",
       "      <td>2</td>\n",
       "      <td>1</td>\n",
       "      <td>No</td>\n",
       "      <td>2</td>\n",
       "      <td>2</td>\n",
       "      <td>1</td>\n",
       "      <td>No</td>\n",
       "      <td>2</td>\n",
       "      <td>2</td>\n",
       "      <td>1</td>\n",
       "      <td>No</td>\n",
       "      <td>2</td>\n",
       "    </tr>\n",
       "    <tr>\n",
       "      <th>Romania</th>\n",
       "      <td>1</td>\n",
       "      <td>1</td>\n",
       "      <td>No</td>\n",
       "      <td>1</td>\n",
       "      <td>1</td>\n",
       "      <td>1</td>\n",
       "      <td>Yes</td>\n",
       "      <td>1</td>\n",
       "      <td>1</td>\n",
       "      <td>1</td>\n",
       "      <td>No</td>\n",
       "      <td>1</td>\n",
       "    </tr>\n",
       "    <tr>\n",
       "      <th>Russia</th>\n",
       "      <td>3</td>\n",
       "      <td>1</td>\n",
       "      <td>No</td>\n",
       "      <td>3</td>\n",
       "      <td>3</td>\n",
       "      <td>2</td>\n",
       "      <td>No</td>\n",
       "      <td>2</td>\n",
       "      <td>3</td>\n",
       "      <td>1</td>\n",
       "      <td>No</td>\n",
       "      <td>3</td>\n",
       "    </tr>\n",
       "    <tr>\n",
       "      <th>Singapore</th>\n",
       "      <td>4</td>\n",
       "      <td>2</td>\n",
       "      <td>No</td>\n",
       "      <td>3</td>\n",
       "      <td>4</td>\n",
       "      <td>2</td>\n",
       "      <td>No</td>\n",
       "      <td>2</td>\n",
       "      <td>4</td>\n",
       "      <td>1</td>\n",
       "      <td>No</td>\n",
       "      <td>4</td>\n",
       "    </tr>\n",
       "    <tr>\n",
       "      <th>Slovenia</th>\n",
       "      <td>1</td>\n",
       "      <td>1</td>\n",
       "      <td>Yes</td>\n",
       "      <td>1</td>\n",
       "      <td>1</td>\n",
       "      <td>1</td>\n",
       "      <td>No</td>\n",
       "      <td>1</td>\n",
       "      <td>1</td>\n",
       "      <td>1</td>\n",
       "      <td>No</td>\n",
       "      <td>1</td>\n",
       "    </tr>\n",
       "    <tr>\n",
       "      <th>South Africa</th>\n",
       "      <td>6</td>\n",
       "      <td>2</td>\n",
       "      <td>Yes</td>\n",
       "      <td>4</td>\n",
       "      <td>6</td>\n",
       "      <td>2</td>\n",
       "      <td>No</td>\n",
       "      <td>3</td>\n",
       "      <td>6</td>\n",
       "      <td>2</td>\n",
       "      <td>No</td>\n",
       "      <td>4</td>\n",
       "    </tr>\n",
       "    <tr>\n",
       "      <th>Spain</th>\n",
       "      <td>1</td>\n",
       "      <td>1</td>\n",
       "      <td>No</td>\n",
       "      <td>1</td>\n",
       "      <td>1</td>\n",
       "      <td>1</td>\n",
       "      <td>No</td>\n",
       "      <td>1</td>\n",
       "      <td>1</td>\n",
       "      <td>1</td>\n",
       "      <td>No</td>\n",
       "      <td>1</td>\n",
       "    </tr>\n",
       "    <tr>\n",
       "      <th>Sweden</th>\n",
       "      <td>7</td>\n",
       "      <td>2</td>\n",
       "      <td>No</td>\n",
       "      <td>5</td>\n",
       "      <td>7</td>\n",
       "      <td>1</td>\n",
       "      <td>No</td>\n",
       "      <td>7</td>\n",
       "      <td>7</td>\n",
       "      <td>1</td>\n",
       "      <td>No</td>\n",
       "      <td>7</td>\n",
       "    </tr>\n",
       "    <tr>\n",
       "      <th>Switzerland</th>\n",
       "      <td>7</td>\n",
       "      <td>2</td>\n",
       "      <td>No</td>\n",
       "      <td>4</td>\n",
       "      <td>7</td>\n",
       "      <td>1</td>\n",
       "      <td>No</td>\n",
       "      <td>7</td>\n",
       "      <td>7</td>\n",
       "      <td>2</td>\n",
       "      <td>No</td>\n",
       "      <td>6</td>\n",
       "    </tr>\n",
       "    <tr>\n",
       "      <th>Thailand</th>\n",
       "      <td>1</td>\n",
       "      <td>1</td>\n",
       "      <td>No</td>\n",
       "      <td>1</td>\n",
       "      <td>1</td>\n",
       "      <td>1</td>\n",
       "      <td>No</td>\n",
       "      <td>1</td>\n",
       "      <td>1</td>\n",
       "      <td>1</td>\n",
       "      <td>Yes</td>\n",
       "      <td>1</td>\n",
       "    </tr>\n",
       "    <tr>\n",
       "      <th>United Kingdom</th>\n",
       "      <td>184</td>\n",
       "      <td>2</td>\n",
       "      <td>No</td>\n",
       "      <td>92</td>\n",
       "      <td>184</td>\n",
       "      <td>2</td>\n",
       "      <td>No</td>\n",
       "      <td>143</td>\n",
       "      <td>184</td>\n",
       "      <td>2</td>\n",
       "      <td>No</td>\n",
       "      <td>156</td>\n",
       "    </tr>\n",
       "    <tr>\n",
       "      <th>United States</th>\n",
       "      <td>748</td>\n",
       "      <td>2</td>\n",
       "      <td>Yes</td>\n",
       "      <td>408</td>\n",
       "      <td>748</td>\n",
       "      <td>2</td>\n",
       "      <td>No</td>\n",
       "      <td>513</td>\n",
       "      <td>748</td>\n",
       "      <td>2</td>\n",
       "      <td>No</td>\n",
       "      <td>693</td>\n",
       "    </tr>\n",
       "    <tr>\n",
       "      <th>Uruguay</th>\n",
       "      <td>1</td>\n",
       "      <td>1</td>\n",
       "      <td>No</td>\n",
       "      <td>1</td>\n",
       "      <td>1</td>\n",
       "      <td>1</td>\n",
       "      <td>Yes</td>\n",
       "      <td>1</td>\n",
       "      <td>1</td>\n",
       "      <td>1</td>\n",
       "      <td>No</td>\n",
       "      <td>1</td>\n",
       "    </tr>\n",
       "  </tbody>\n",
       "</table>\n",
       "</div>"
      ],
      "text/plain": [
       "                       treatment                  remote_work              \\\n",
       "                           count unique  top freq       count unique  top   \n",
       "Country                                                                     \n",
       "Australia                     21      2  Yes   13          21      2   No   \n",
       "Austria                        3      1   No    3           3      2  Yes   \n",
       "Bahamas, The                   1      1  Yes    1           1      1  Yes   \n",
       "Belgium                        6      2   No    5           6      1   No   \n",
       "Bosnia and Herzegovina         1      1   No    1           1      1  Yes   \n",
       "Brazil                         6      2   No    4           6      2   No   \n",
       "Bulgaria                       4      2   No    2           4      2  Yes   \n",
       "Canada                        72      2  Yes   37          72      2   No   \n",
       "China                          1      1   No    1           1      1  Yes   \n",
       "Colombia                       2      1   No    2           2      1   No   \n",
       "Costa Rica                     1      1   No    1           1      1  Yes   \n",
       "Croatia                        2      1  Yes    2           2      1  Yes   \n",
       "Czech Republic                 1      1   No    1           1      1   No   \n",
       "Denmark                        2      1  Yes    2           2      1   No   \n",
       "Finland                        3      2   No    2           3      2   No   \n",
       "France                        13      2   No   11          13      2   No   \n",
       "Georgia                        1      1   No    1           1      1   No   \n",
       "Germany                       45      2   No   24          45      2   No   \n",
       "Greece                         2      1   No    2           2      1  Yes   \n",
       "Hungary                        1      1   No    1           1      1  Yes   \n",
       "India                         10      2   No    7          10      2   No   \n",
       "Ireland                       27      2   No   14          27      2   No   \n",
       "Israel                         5      1   No    5           5      1   No   \n",
       "Italy                          7      2   No    6           7      1   No   \n",
       "Japan                          1      1  Yes    1           1      1  Yes   \n",
       "Latvia                         1      1   No    1           1      1   No   \n",
       "Mexico                         3      2   No    2           3      2  Yes   \n",
       "Moldova                        1      1  Yes    1           1      1   No   \n",
       "Netherlands                   27      2   No   18          27      2   No   \n",
       "New Zealand                    8      2  Yes    5           8      2   No   \n",
       "Nigeria                        1      1   No    1           1      1   No   \n",
       "Norway                         1      1   No    1           1      1   No   \n",
       "Philippines                    1      1   No    1           1      1   No   \n",
       "Poland                         7      2  Yes    4           7      2  Yes   \n",
       "Portugal                       2      1   No    2           2      1   No   \n",
       "Romania                        1      1   No    1           1      1  Yes   \n",
       "Russia                         3      1   No    3           3      2   No   \n",
       "Singapore                      4      2   No    3           4      2   No   \n",
       "Slovenia                       1      1  Yes    1           1      1   No   \n",
       "South Africa                   6      2  Yes    4           6      2   No   \n",
       "Spain                          1      1   No    1           1      1   No   \n",
       "Sweden                         7      2   No    5           7      1   No   \n",
       "Switzerland                    7      2   No    4           7      1   No   \n",
       "Thailand                       1      1   No    1           1      1   No   \n",
       "United Kingdom               184      2   No   92         184      2   No   \n",
       "United States                748      2  Yes  408         748      2   No   \n",
       "Uruguay                        1      1   No    1           1      1  Yes   \n",
       "\n",
       "                            self_employed                   \n",
       "                       freq         count unique  top freq  \n",
       "Country                                                     \n",
       "Australia                13            21      2   No   19  \n",
       "Austria                   2             3      2   No    2  \n",
       "Bahamas, The              1             1      1  Yes    1  \n",
       "Belgium                   6             6      1   No    6  \n",
       "Bosnia and Herzegovina    1             1      1   No    1  \n",
       "Brazil                    5             6      2   No    4  \n",
       "Bulgaria                  3             4      1   No    4  \n",
       "Canada                   50            72      2   No   61  \n",
       "China                     1             1      1  Yes    1  \n",
       "Colombia                  2             2      1   No    2  \n",
       "Costa Rica                1             1      1   No    1  \n",
       "Croatia                   2             2      2   No    1  \n",
       "Czech Republic            1             1      1   No    1  \n",
       "Denmark                   2             2      1  Yes    2  \n",
       "Finland                   2             3      1   No    3  \n",
       "France                   10            13      2   No   11  \n",
       "Georgia                   1             1      1   No    1  \n",
       "Germany                  29            45      2   No   33  \n",
       "Greece                    2             2      1   No    2  \n",
       "Hungary                   1             1      1  Yes    1  \n",
       "India                     9            10      2   No    7  \n",
       "Ireland                  22            27      2   No   21  \n",
       "Israel                    5             5      1   No    5  \n",
       "Italy                     7             7      2   No    6  \n",
       "Japan                     1             1      1  Yes    1  \n",
       "Latvia                    1             1      1   No    1  \n",
       "Mexico                    2             3      2   No    2  \n",
       "Moldova                   1             1      1   No    1  \n",
       "Netherlands              19            27      2   No   20  \n",
       "New Zealand               5             8      1   No    8  \n",
       "Nigeria                   1             1      1   No    1  \n",
       "Norway                    1             1      1   No    1  \n",
       "Philippines               1             1      1   No    1  \n",
       "Poland                    4             7      2   No    5  \n",
       "Portugal                  2             2      1   No    2  \n",
       "Romania                   1             1      1   No    1  \n",
       "Russia                    2             3      1   No    3  \n",
       "Singapore                 2             4      1   No    4  \n",
       "Slovenia                  1             1      1   No    1  \n",
       "South Africa              3             6      2   No    4  \n",
       "Spain                     1             1      1   No    1  \n",
       "Sweden                    7             7      1   No    7  \n",
       "Switzerland               7             7      2   No    6  \n",
       "Thailand                  1             1      1  Yes    1  \n",
       "United Kingdom          143           184      2   No  156  \n",
       "United States           513           748      2   No  693  \n",
       "Uruguay                   1             1      1   No    1  "
      ]
     },
     "execution_count": 23,
     "metadata": {},
     "output_type": "execute_result"
    }
   ],
   "source": [
    "country['treatment','remote_work','self_employed'].describe()"
   ]
  },
  {
   "cell_type": "markdown",
   "metadata": {},
   "source": [
    "From this we find out that countries like United states,Australia,United Kingdom and Canada have more than 50% of surveyed people who undergo a treatment for mental problems."
   ]
  },
  {
   "cell_type": "markdown",
   "metadata": {},
   "source": [
    "We also find that in the above countries, majority of people dont work at home or remotely which could be the reason for boredom ,anxiety and hence degrading mental health."
   ]
  },
  {
   "cell_type": "markdown",
   "metadata": {},
   "source": []
  },
  {
   "cell_type": "code",
   "execution_count": 24,
   "metadata": {},
   "outputs": [
    {
     "data": {
      "text/html": [
       "<div>\n",
       "<style scoped>\n",
       "    .dataframe tbody tr th:only-of-type {\n",
       "        vertical-align: middle;\n",
       "    }\n",
       "\n",
       "    .dataframe tbody tr th {\n",
       "        vertical-align: top;\n",
       "    }\n",
       "\n",
       "    .dataframe thead th {\n",
       "        text-align: right;\n",
       "    }\n",
       "</style>\n",
       "<table border=\"1\" class=\"dataframe\">\n",
       "  <thead>\n",
       "    <tr style=\"text-align: right;\">\n",
       "      <th></th>\n",
       "      <th>count</th>\n",
       "      <th>unique</th>\n",
       "      <th>top</th>\n",
       "      <th>freq</th>\n",
       "    </tr>\n",
       "    <tr>\n",
       "      <th>self_employed</th>\n",
       "      <th></th>\n",
       "      <th></th>\n",
       "      <th></th>\n",
       "      <th></th>\n",
       "    </tr>\n",
       "  </thead>\n",
       "  <tbody>\n",
       "    <tr>\n",
       "      <th>No</th>\n",
       "      <td>1110</td>\n",
       "      <td>2</td>\n",
       "      <td>Yes</td>\n",
       "      <td>557</td>\n",
       "    </tr>\n",
       "    <tr>\n",
       "      <th>Yes</th>\n",
       "      <td>144</td>\n",
       "      <td>2</td>\n",
       "      <td>Yes</td>\n",
       "      <td>76</td>\n",
       "    </tr>\n",
       "  </tbody>\n",
       "</table>\n",
       "</div>"
      ],
      "text/plain": [
       "              count unique  top freq\n",
       "self_employed                       \n",
       "No             1110      2  Yes  557\n",
       "Yes             144      2  Yes   76"
      ]
     },
     "execution_count": 24,
     "metadata": {},
     "output_type": "execute_result"
    }
   ],
   "source": [
    "s_employ=data.groupby(['self_employed'])\n",
    "s_employ['treatment'].describe()"
   ]
  },
  {
   "cell_type": "markdown",
   "metadata": {},
   "source": [
    "We find regardless of whether a person is self_employed or not,it has no affect on the person recieving treatment for mental trauma."
   ]
  },
  {
   "cell_type": "code",
   "execution_count": 25,
   "metadata": {},
   "outputs": [
    {
     "data": {
      "text/html": [
       "<div>\n",
       "<style scoped>\n",
       "    .dataframe tbody tr th:only-of-type {\n",
       "        vertical-align: middle;\n",
       "    }\n",
       "\n",
       "    .dataframe tbody tr th {\n",
       "        vertical-align: top;\n",
       "    }\n",
       "\n",
       "    .dataframe thead th {\n",
       "        text-align: right;\n",
       "    }\n",
       "</style>\n",
       "<table border=\"1\" class=\"dataframe\">\n",
       "  <thead>\n",
       "    <tr style=\"text-align: right;\">\n",
       "      <th></th>\n",
       "      <th>count</th>\n",
       "      <th>mean</th>\n",
       "      <th>std</th>\n",
       "      <th>min</th>\n",
       "      <th>25%</th>\n",
       "      <th>50%</th>\n",
       "      <th>75%</th>\n",
       "      <th>max</th>\n",
       "    </tr>\n",
       "    <tr>\n",
       "      <th>treatment</th>\n",
       "      <th></th>\n",
       "      <th></th>\n",
       "      <th></th>\n",
       "      <th></th>\n",
       "      <th></th>\n",
       "      <th></th>\n",
       "      <th></th>\n",
       "      <th></th>\n",
       "    </tr>\n",
       "  </thead>\n",
       "  <tbody>\n",
       "    <tr>\n",
       "      <th>No</th>\n",
       "      <td>621.0</td>\n",
       "      <td>31.458937</td>\n",
       "      <td>7.084081</td>\n",
       "      <td>5.0</td>\n",
       "      <td>27.0</td>\n",
       "      <td>31.0</td>\n",
       "      <td>35.0</td>\n",
       "      <td>65.0</td>\n",
       "    </tr>\n",
       "    <tr>\n",
       "      <th>Yes</th>\n",
       "      <td>633.0</td>\n",
       "      <td>32.568720</td>\n",
       "      <td>7.615281</td>\n",
       "      <td>8.0</td>\n",
       "      <td>27.0</td>\n",
       "      <td>32.0</td>\n",
       "      <td>37.0</td>\n",
       "      <td>72.0</td>\n",
       "    </tr>\n",
       "  </tbody>\n",
       "</table>\n",
       "</div>"
      ],
      "text/plain": [
       "           count       mean       std  min   25%   50%   75%   max\n",
       "treatment                                                         \n",
       "No         621.0  31.458937  7.084081  5.0  27.0  31.0  35.0  65.0\n",
       "Yes        633.0  32.568720  7.615281  8.0  27.0  32.0  37.0  72.0"
      ]
     },
     "execution_count": 25,
     "metadata": {},
     "output_type": "execute_result"
    }
   ],
   "source": [
    "treat=data.groupby(['treatment'])\n",
    "treat['Age'].describe()"
   ]
  },
  {
   "cell_type": "markdown",
   "metadata": {},
   "source": [
    "We find that mean age of people recieving treatment is 32.5 years and there are some people who recieve aid at a small age of even 8yrs and sometimes even as old as 72yrs."
   ]
  },
  {
   "cell_type": "markdown",
   "metadata": {},
   "source": [
    "So we can see that the adult age faces more mental health issues compared to other phases but other phases are also not too free from this."
   ]
  },
  {
   "cell_type": "code",
   "execution_count": 26,
   "metadata": {},
   "outputs": [
    {
     "data": {
      "text/plain": [
       "Index(['Timestamp', 'Age', 'Gender', 'Country', 'self_employed',\n",
       "       'family_history', 'treatment', 'work_interfere', 'no_employees',\n",
       "       'remote_work', 'tech_company', 'benefits', 'care_options',\n",
       "       'wellness_program', 'seek_help', 'anonymity', 'leave',\n",
       "       'mental_health_consequence', 'phys_health_consequence', 'coworkers',\n",
       "       'supervisor', 'mental_health_interview', 'phys_health_interview',\n",
       "       'mental_vs_physical', 'obs_consequence'],\n",
       "      dtype='object')"
      ]
     },
     "execution_count": 26,
     "metadata": {},
     "output_type": "execute_result"
    }
   ],
   "source": [
    "data.columns"
   ]
  },
  {
   "cell_type": "code",
   "execution_count": 27,
   "metadata": {},
   "outputs": [
    {
     "data": {
      "text/html": [
       "<div>\n",
       "<style scoped>\n",
       "    .dataframe tbody tr th:only-of-type {\n",
       "        vertical-align: middle;\n",
       "    }\n",
       "\n",
       "    .dataframe tbody tr th {\n",
       "        vertical-align: top;\n",
       "    }\n",
       "\n",
       "    .dataframe thead tr th {\n",
       "        text-align: left;\n",
       "    }\n",
       "\n",
       "    .dataframe thead tr:last-of-type th {\n",
       "        text-align: right;\n",
       "    }\n",
       "</style>\n",
       "<table border=\"1\" class=\"dataframe\">\n",
       "  <thead>\n",
       "    <tr>\n",
       "      <th></th>\n",
       "      <th colspan=\"4\" halign=\"left\">tech_company</th>\n",
       "      <th colspan=\"4\" halign=\"left\">work_interfere</th>\n",
       "    </tr>\n",
       "    <tr>\n",
       "      <th></th>\n",
       "      <th>count</th>\n",
       "      <th>unique</th>\n",
       "      <th>top</th>\n",
       "      <th>freq</th>\n",
       "      <th>count</th>\n",
       "      <th>unique</th>\n",
       "      <th>top</th>\n",
       "      <th>freq</th>\n",
       "    </tr>\n",
       "    <tr>\n",
       "      <th>treatment</th>\n",
       "      <th></th>\n",
       "      <th></th>\n",
       "      <th></th>\n",
       "      <th></th>\n",
       "      <th></th>\n",
       "      <th></th>\n",
       "      <th></th>\n",
       "      <th></th>\n",
       "    </tr>\n",
       "  </thead>\n",
       "  <tbody>\n",
       "    <tr>\n",
       "      <th>No</th>\n",
       "      <td>621</td>\n",
       "      <td>2</td>\n",
       "      <td>Yes</td>\n",
       "      <td>517</td>\n",
       "      <td>621</td>\n",
       "      <td>4</td>\n",
       "      <td>Sometimes</td>\n",
       "      <td>366</td>\n",
       "    </tr>\n",
       "    <tr>\n",
       "      <th>Yes</th>\n",
       "      <td>633</td>\n",
       "      <td>2</td>\n",
       "      <td>Yes</td>\n",
       "      <td>511</td>\n",
       "      <td>633</td>\n",
       "      <td>4</td>\n",
       "      <td>Sometimes</td>\n",
       "      <td>361</td>\n",
       "    </tr>\n",
       "  </tbody>\n",
       "</table>\n",
       "</div>"
      ],
      "text/plain": [
       "          tech_company                  work_interfere                       \n",
       "                 count unique  top freq          count unique        top freq\n",
       "treatment                                                                    \n",
       "No                 621      2  Yes  517            621      4  Sometimes  366\n",
       "Yes                633      2  Yes  511            633      4  Sometimes  361"
      ]
     },
     "execution_count": 27,
     "metadata": {},
     "output_type": "execute_result"
    }
   ],
   "source": [
    "treat['tech_company','work_interfere'].describe()"
   ]
  },
  {
   "cell_type": "markdown",
   "metadata": {},
   "source": [
    "From this,we get to know that people who work in tech are not so much mentally affected by their work.So type of work does not affect the mental health."
   ]
  },
  {
   "cell_type": "markdown",
   "metadata": {},
   "source": [
    "It is important to note that we are considering people who take medications or treatment as the people who are deeply mentally stressed .There may be cases where the health has degraded but may not prefer any medication.We are ignoring such cases."
   ]
  },
  {
   "cell_type": "markdown",
   "metadata": {},
   "source": [
    "We also find that both people who may or may not undergo treatment both agree that their mental health affect their productivity in work sometimes."
   ]
  },
  {
   "cell_type": "code",
   "execution_count": 28,
   "metadata": {},
   "outputs": [
    {
     "data": {
      "text/plain": [
       "<AxesSubplot:xlabel='Age', ylabel='leave'>"
      ]
     },
     "execution_count": 28,
     "metadata": {},
     "output_type": "execute_result"
    }
   ],
   "source": [
    "sns.barplot(data['leave'].unique(),data['leave'].value_counts())"
   ]
  },
  {
   "cell_type": "markdown",
   "metadata": {},
   "source": [
    "From this we can find that people find it somewhat on a easier side to get a leave sanctioned for mental health reasons because employers feel that mental health demands immense importance than work.\n",
    "The company may sometimes deem to be responsible if its employeers health degrades.Hence companies dont take any risks which could be one of the prime reasons."
   ]
  },
  {
   "cell_type": "code",
   "execution_count": 29,
   "metadata": {},
   "outputs": [
    {
     "data": {
      "text/plain": [
       "<AxesSubplot:xlabel='Age', ylabel='mental_health_consequence'>"
      ]
     },
     "execution_count": 29,
     "metadata": {},
     "output_type": "execute_result"
    }
   ],
   "source": [
    "sns.barplot(data['mental_health_consequence'].unique(),data['mental_health_consequence'].value_counts())"
   ]
  },
  {
   "cell_type": "code",
   "execution_count": 30,
   "metadata": {},
   "outputs": [
    {
     "data": {
      "text/plain": [
       "<AxesSubplot:xlabel='Age', ylabel='phys_health_consequence'>"
      ]
     },
     "execution_count": 30,
     "metadata": {},
     "output_type": "execute_result"
    }
   ],
   "source": [
    "sns.barplot(data['phys_health_consequence'].unique(),data['phys_health_consequence'].value_counts())"
   ]
  },
  {
   "cell_type": "markdown",
   "metadata": {},
   "source": [
    "It is a good to see that people dont feel that discussing a mental health issue with your employer would have negative consequences. So people are ready to share their issues so that they feel light on heart.\n",
    "The same is the case with physical health too."
   ]
  },
  {
   "cell_type": "code",
   "execution_count": 31,
   "metadata": {},
   "outputs": [
    {
     "data": {
      "text/plain": [
       "Some of them    772\n",
       "No              258\n",
       "Yes             224\n",
       "Name: coworkers, dtype: int64"
      ]
     },
     "execution_count": 31,
     "metadata": {},
     "output_type": "execute_result"
    }
   ],
   "source": [
    "plt.pie(data['coworkers'].value_counts(),labels=data['coworkers'].unique())\n",
    "data['coworkers'].value_counts()"
   ]
  },
  {
   "cell_type": "markdown",
   "metadata": {},
   "source": [
    "So people prefer to share about their mental health with only some of their coworkers or sometimes dont even want to share sometimes because there may be coworkers who would just empathize and demotivate even more."
   ]
  },
  {
   "cell_type": "code",
   "execution_count": 32,
   "metadata": {},
   "outputs": [
    {
     "name": "stdout",
     "output_type": "stream",
     "text": [
      "Don't know    574\n",
      "Yes           342\n",
      "No            338\n",
      "Name: mental_vs_physical, dtype: int64\n"
     ]
    },
    {
     "data": {
      "text/plain": [
       "(array([342.,   0.,   0.,   0.,   0., 574.,   0.,   0.,   0., 338.]),\n",
       " array([0. , 0.2, 0.4, 0.6, 0.8, 1. , 1.2, 1.4, 1.6, 1.8, 2. ]),\n",
       " [<matplotlib.patches.Polygon at 0x7f8d49042a50>])"
      ]
     },
     "execution_count": 32,
     "metadata": {},
     "output_type": "execute_result"
    }
   ],
   "source": [
    "print(data['mental_vs_physical'].value_counts())\n",
    "plt.hist(data['mental_vs_physical'],histtype='step')"
   ]
  },
  {
   "cell_type": "markdown",
   "metadata": {},
   "source": [
    "So people dont know exactly whether employer would consider mental health as serious as a physical one .The ambiguity remains how people in a office would react to mental illness."
   ]
  },
  {
   "cell_type": "markdown",
   "metadata": {},
   "source": [
    "# Conclusion and Inferences."
   ]
  },
  {
   "cell_type": "markdown",
   "metadata": {},
   "source": [
    "1.This case study is majorly based on cases in the Western world."
   ]
  },
  {
   "cell_type": "markdown",
   "metadata": {},
   "source": [
    "2.Cases show that more than 50% of people surveyed in countries like US,Australia and Canada undergo treatment for mental ailments."
   ]
  },
  {
   "cell_type": "markdown",
   "metadata": {},
   "source": [
    "3.People who are not more prone to work at home are usually bored and filled with anxiety leading to degradation in mental health."
   ]
  },
  {
   "cell_type": "markdown",
   "metadata": {},
   "source": [
    "4.People who are in the early 30's usually undergo treatment but there are extreme cases like 8 years and 72 years people recieving the same treatment."
   ]
  },
  {
   "cell_type": "markdown",
   "metadata": {},
   "source": [
    "5.It is interesting to find that people face mental trauma regardless of whether they are self employed or not."
   ]
  },
  {
   "cell_type": "markdown",
   "metadata": {},
   "source": [
    "6.The surveyed people agree that their mental health somewhat affects their productivity at work. "
   ]
  },
  {
   "cell_type": "markdown",
   "metadata": {},
   "source": [
    "7.People feel that their employers somewhat easily sanction leave for mental health issues.The reason maybe that the employer does not want to take any risk of overloading the patient with work."
   ]
  },
  {
   "cell_type": "markdown",
   "metadata": {},
   "source": [
    "8.People feel that sharing about their mental or physical health with employers would help them a bit but they are reluctant to share the same with their coworkers.They would prefer to share with only some of the coworkers."
   ]
  },
  {
   "cell_type": "markdown",
   "metadata": {},
   "source": [
    "9.People dont know whether the employer considers mental health issues as seriously as the physical ones.The ambiguity still remains about people's reaction towards mental health."
   ]
  },
  {
   "cell_type": "code",
   "execution_count": null,
   "metadata": {},
   "outputs": [],
   "source": []
  },
  {
   "cell_type": "markdown",
   "metadata": {},
   "source": [
    "## PLEASE DONT FORGET TO UPVOTE!!!"
   ]
  },
  {
   "cell_type": "code",
   "execution_count": null,
   "metadata": {},
   "outputs": [],
   "source": []
  }
 ],
 "metadata": {
  "kernelspec": {
   "display_name": "Python 3",
   "language": "python",
   "name": "python3"
  },
  "language_info": {
   "codemirror_mode": {
    "name": "ipython",
    "version": 3
   },
   "file_extension": ".py",
   "mimetype": "text/x-python",
   "name": "python",
   "nbconvert_exporter": "python",
   "pygments_lexer": "ipython3",
   "version": "3.7.11"
  }
 },
 "nbformat": 4,
 "nbformat_minor": 4
}
